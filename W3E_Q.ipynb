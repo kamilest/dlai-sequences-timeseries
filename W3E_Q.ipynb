{
  "nbformat": 4,
  "nbformat_minor": 0,
  "metadata": {
    "accelerator": "GPU",
    "colab": {
      "name": "S+P Week 3 Exercise Question.ipynb",
      "provenance": [],
      "collapsed_sections": [],
      "include_colab_link": true
    },
    "kernelspec": {
      "display_name": "Python 3",
      "name": "python3"
    }
  },
  "cells": [
    {
      "cell_type": "markdown",
      "metadata": {
        "id": "view-in-github",
        "colab_type": "text"
      },
      "source": [
        "<a href=\"https://colab.research.google.com/github/kamilest/dlai-sequences-timeseries/blob/master/W3E_Q.ipynb\" target=\"_parent\"><img src=\"https://colab.research.google.com/assets/colab-badge.svg\" alt=\"Open In Colab\"/></a>"
      ]
    },
    {
      "cell_type": "code",
      "metadata": {
        "id": "zX4Kg8DUTKWO",
        "colab_type": "code",
        "colab": {}
      },
      "source": [
        "#@title Licensed under the Apache License, Version 2.0 (the \"License\");\n",
        "# you may not use this file except in compliance with the License.\n",
        "# You may obtain a copy of the License at\n",
        "#\n",
        "# https://www.apache.org/licenses/LICENSE-2.0\n",
        "#\n",
        "# Unless required by applicable law or agreed to in writing, software\n",
        "# distributed under the License is distributed on an \"AS IS\" BASIS,\n",
        "# WITHOUT WARRANTIES OR CONDITIONS OF ANY KIND, either express or implied.\n",
        "# See the License for the specific language governing permissions and\n",
        "# limitations under the License."
      ],
      "execution_count": null,
      "outputs": []
    },
    {
      "cell_type": "code",
      "metadata": {
        "colab_type": "code",
        "id": "BOjujz601HcS",
        "colab": {
          "base_uri": "https://localhost:8080/",
          "height": 34
        },
        "outputId": "7e53326a-0701-4fb6-b358-6979282fd32b"
      },
      "source": [
        "import tensorflow as tf\n",
        "import numpy as np\n",
        "import matplotlib.pyplot as plt\n",
        "print(tf.__version__)"
      ],
      "execution_count": 1,
      "outputs": [
        {
          "output_type": "stream",
          "text": [
            "2.3.0\n"
          ],
          "name": "stdout"
        }
      ]
    },
    {
      "cell_type": "code",
      "metadata": {
        "colab_type": "code",
        "id": "Zswl7jRtGzkk",
        "colab": {
          "base_uri": "https://localhost:8080/",
          "height": 279
        },
        "outputId": "c68e814a-ffdd-4c9c-b5d6-f8b1e69945b2"
      },
      "source": [
        "def plot_series(time, series, format=\"-\", start=0, end=None):\n",
        "    plt.plot(time[start:end], series[start:end], format)\n",
        "    plt.xlabel(\"Time\")\n",
        "    plt.ylabel(\"Value\")\n",
        "    plt.grid(False)\n",
        "\n",
        "def trend(time, slope=0):\n",
        "    return slope * time\n",
        "\n",
        "def seasonal_pattern(season_time):\n",
        "    \"\"\"Just an arbitrary pattern, you can change it if you wish\"\"\"\n",
        "    return np.where(season_time < 0.1,\n",
        "                    np.cos(season_time * 6 * np.pi),\n",
        "                    2 / np.exp(9 * season_time))\n",
        "\n",
        "def seasonality(time, period, amplitude=1, phase=0):\n",
        "    \"\"\"Repeats the same pattern at each period\"\"\"\n",
        "    season_time = ((time + phase) % period) / period\n",
        "    return amplitude * seasonal_pattern(season_time)\n",
        "\n",
        "def noise(time, noise_level=1, seed=None):\n",
        "    rnd = np.random.RandomState(seed)\n",
        "    return rnd.randn(len(time)) * noise_level\n",
        "\n",
        "time = np.arange(10 * 365 + 1, dtype=\"float32\")\n",
        "baseline = 10\n",
        "series = trend(time, 0.1)  \n",
        "baseline = 10\n",
        "amplitude = 40\n",
        "slope = 0.005\n",
        "noise_level = 3\n",
        "\n",
        "# Create the series\n",
        "series = baseline + trend(time, slope) + seasonality(time, period=365, amplitude=amplitude)\n",
        "# Update with noise\n",
        "series += noise(time, noise_level, seed=51)\n",
        "\n",
        "split_time = 3000\n",
        "time_train = time[:split_time]\n",
        "x_train = series[:split_time]\n",
        "time_valid = time[split_time:]\n",
        "x_valid = series[split_time:]\n",
        "\n",
        "window_size = 20\n",
        "batch_size = 32\n",
        "shuffle_buffer_size = 1000\n",
        "\n",
        "plot_series(time, series)"
      ],
      "execution_count": 2,
      "outputs": [
        {
          "output_type": "display_data",
          "data": {
            "image/png": "[encoded data removed]",
            "text/plain": [
              "<Figure size 432x288 with 1 Axes>"
            ]
          },
          "metadata": {
            "tags": [],
            "needs_background": "light"
          }
        }
      ]
    },
    {
      "cell_type": "code",
      "metadata": {
        "colab_type": "code",
        "id": "4sTTIOCbyShY",
        "colab": {}
      },
      "source": [
        "def windowed_dataset(series, window_size, batch_size, shuffle_buffer):\n",
        "  dataset = tf.data.Dataset.from_tensor_slices(series)\n",
        "  dataset = dataset.window(window_size + 1, shift=1, drop_remainder=True)\n",
        "  dataset = dataset.flat_map(lambda window: window.batch(window_size + 1))\n",
        "  dataset = dataset.shuffle(shuffle_buffer).map(lambda window: (window[:-1], window[-1]))\n",
        "  dataset = dataset.batch(batch_size).prefetch(1)\n",
        "  return dataset"
      ],
      "execution_count": 3,
      "outputs": []
    },
    {
      "cell_type": "markdown",
      "metadata": {
        "id": "nHbRQQkHKANd",
        "colab_type": "text"
      },
      "source": [
        "Creating a bi-directional LSTM layer with two LSTM layers (32 units each), one dense layer that combines the LSTM sequence outputs, and a lambda layer that amplifies the output."
      ]
    },
    {
      "cell_type": "code",
      "metadata": {
        "colab_type": "code",
        "id": "A1Hl39rklkLm",
        "colab": {
          "base_uri": "https://localhost:8080/",
          "height": 1000
        },
        "outputId": "bae9818f-a62c-4ccd-c099-e90ced959118"
      },
      "source": [
        "tf.keras.backend.clear_session()\n",
        "tf.random.set_seed(51)\n",
        "np.random.seed(51)\n",
        "\n",
        "tf.keras.backend.clear_session()\n",
        "dataset = windowed_dataset(x_train, window_size, batch_size, shuffle_buffer_size)\n",
        "\n",
        "model = tf.keras.models.Sequential([\n",
        "  tf.keras.layers.Lambda(lambda x: tf.expand_dims(x, axis=-1), output_shape=[None]),\n",
        "  tf.keras.layers.Bidirectional(tf.keras.layers.LSTM(32, return_sequences=True)),\n",
        "  tf.keras.layers.Bidirectional(tf.keras.layers.LSTM(32)),\n",
        "  tf.keras.layers.Dense(1),\n",
        "  tf.keras.layers.Lambda(lambda x: x * 10.0)\n",
        "])\n",
        "\n",
        "lr_schedule = tf.keras.callbacks.LearningRateScheduler(\n",
        "    lambda epoch: 1e-8 * 10**(epoch / 20))\n",
        "optimizer = tf.keras.optimizers.SGD(lr=1e-8, momentum=0.9)\n",
        "model.compile(loss=tf.keras.losses.Huber(),\n",
        "              optimizer=optimizer,\n",
        "              metrics=[\"mae\"])\n",
        "history = model.fit(dataset, epochs=100, callbacks=[lr_schedule])"
      ],
      "execution_count": 4,
      "outputs": [
        {
          "output_type": "stream",
          "text": [
            "Epoch 1/100\n",
            "94/94 [==============================] - 1s 11ms/step - loss: 20.3828 - mae: 20.8828\n",
            "Epoch 2/100\n",
            "94/94 [==============================] - 1s 11ms/step - loss: 20.3543 - mae: 20.8543\n",
            "Epoch 3/100\n",
            "94/94 [==============================] - 1s 11ms/step - loss: 20.3218 - mae: 20.8218\n",
            "Epoch 4/100\n",
            "94/94 [==============================] - 1s 11ms/step - loss: 20.2852 - mae: 20.7851\n",
            "Epoch 5/100\n",
            "94/94 [==============================] - 1s 11ms/step - loss: 20.2436 - mae: 20.7436\n",
            "Epoch 6/100\n",
            "94/94 [==============================] - 1s 10ms/step - loss: 20.1964 - mae: 20.6964\n",
            "Epoch 7/100\n",
            "94/94 [==============================] - 1s 10ms/step - loss: 20.1429 - mae: 20.6429\n",
            "Epoch 8/100\n",
            "94/94 [==============================] - 1s 10ms/step - loss: 20.0823 - mae: 20.5823\n",
            "Epoch 9/100\n",
            "94/94 [==============================] - 1s 10ms/step - loss: 20.0140 - mae: 20.5140\n",
            "Epoch 10/100\n",
            "94/94 [==============================] - 1s 10ms/step - loss: 19.9385 - mae: 20.4385\n",
            "Epoch 11/100\n",
            "94/94 [==============================] - 1s 11ms/step - loss: 19.8585 - mae: 20.3585\n",
            "Epoch 12/100\n",
            "94/94 [==============================] - 1s 10ms/step - loss: 19.7777 - mae: 20.2777\n",
            "Epoch 13/100\n",
            "94/94 [==============================] - 1s 10ms/step - loss: 19.6968 - mae: 20.1968\n",
            "Epoch 14/100\n",
            "94/94 [==============================] - 1s 11ms/step - loss: 19.6109 - mae: 20.1109\n",
            "Epoch 15/100\n",
            "94/94 [==============================] - 1s 10ms/step - loss: 19.5163 - mae: 20.0163\n",
            "Epoch 16/100\n",
            "94/94 [==============================] - 1s 10ms/step - loss: 19.4109 - mae: 19.9109\n",
            "Epoch 17/100\n",
            "94/94 [==============================] - 1s 10ms/step - loss: 19.2932 - mae: 19.7932\n",
            "Epoch 18/100\n",
            "94/94 [==============================] - 1s 10ms/step - loss: 19.1618 - mae: 19.6618\n",
            "Epoch 19/100\n",
            "94/94 [==============================] - 1s 10ms/step - loss: 19.0149 - mae: 19.5148\n",
            "Epoch 20/100\n",
            "94/94 [==============================] - 1s 10ms/step - loss: 18.8504 - mae: 19.3502\n",
            "Epoch 21/100\n",
            "94/94 [==============================] - 1s 10ms/step - loss: 18.6658 - mae: 19.1656\n",
            "Epoch 22/100\n",
            "94/94 [==============================] - 1s 10ms/step - loss: 18.4587 - mae: 18.9583\n",
            "Epoch 23/100\n",
            "94/94 [==============================] - 1s 10ms/step - loss: 18.2256 - mae: 18.7249\n",
            "Epoch 24/100\n",
            "94/94 [==============================] - 1s 10ms/step - loss: 17.9631 - mae: 18.4621\n",
            "Epoch 25/100\n",
            "94/94 [==============================] - 1s 10ms/step - loss: 17.6667 - mae: 18.1655\n",
            "Epoch 26/100\n",
            "94/94 [==============================] - 1s 10ms/step - loss: 17.3323 - mae: 17.8312\n",
            "Epoch 27/100\n",
            "94/94 [==============================] - 1s 10ms/step - loss: 16.9562 - mae: 17.4554\n",
            "Epoch 28/100\n",
            "94/94 [==============================] - 1s 10ms/step - loss: 16.5359 - mae: 17.0350\n",
            "Epoch 29/100\n",
            "94/94 [==============================] - 1s 10ms/step - loss: 16.0721 - mae: 16.5714\n",
            "Epoch 30/100\n",
            "94/94 [==============================] - 1s 10ms/step - loss: 15.5645 - mae: 16.0630\n",
            "Epoch 31/100\n",
            "94/94 [==============================] - 1s 10ms/step - loss: 15.0131 - mae: 15.5113\n",
            "Epoch 32/100\n",
            "94/94 [==============================] - 1s 10ms/step - loss: 14.4169 - mae: 14.9140\n",
            "Epoch 33/100\n",
            "94/94 [==============================] - 1s 10ms/step - loss: 13.7764 - mae: 14.2730\n",
            "Epoch 34/100\n",
            "94/94 [==============================] - 1s 10ms/step - loss: 13.0955 - mae: 13.5900\n",
            "Epoch 35/100\n",
            "94/94 [==============================] - 1s 10ms/step - loss: 12.3846 - mae: 12.8770\n",
            "Epoch 36/100\n",
            "94/94 [==============================] - 1s 10ms/step - loss: 11.6591 - mae: 12.1503\n",
            "Epoch 37/100\n",
            "94/94 [==============================] - 1s 10ms/step - loss: 10.9345 - mae: 11.4246\n",
            "Epoch 38/100\n",
            "94/94 [==============================] - 1s 10ms/step - loss: 10.2310 - mae: 10.7178\n",
            "Epoch 39/100\n",
            "94/94 [==============================] - 1s 10ms/step - loss: 9.5739 - mae: 10.0572\n",
            "Epoch 40/100\n",
            "94/94 [==============================] - 1s 10ms/step - loss: 8.9922 - mae: 9.4767\n",
            "Epoch 41/100\n",
            "94/94 [==============================] - 1s 10ms/step - loss: 8.4929 - mae: 8.9762\n",
            "Epoch 42/100\n",
            "94/94 [==============================] - 1s 10ms/step - loss: 8.0732 - mae: 8.5559\n",
            "Epoch 43/100\n",
            "94/94 [==============================] - 1s 10ms/step - loss: 7.7375 - mae: 8.2186\n",
            "Epoch 44/100\n",
            "94/94 [==============================] - 1s 10ms/step - loss: 7.4800 - mae: 7.9611\n",
            "Epoch 45/100\n",
            "94/94 [==============================] - 1s 10ms/step - loss: 7.2799 - mae: 7.7611\n",
            "Epoch 46/100\n",
            "94/94 [==============================] - 1s 10ms/step - loss: 7.1259 - mae: 7.6089\n",
            "Epoch 47/100\n",
            "94/94 [==============================] - 1s 10ms/step - loss: 6.9972 - mae: 7.4794\n",
            "Epoch 48/100\n",
            "94/94 [==============================] - 1s 10ms/step - loss: 6.8882 - mae: 7.3684\n",
            "Epoch 49/100\n",
            "94/94 [==============================] - 1s 11ms/step - loss: 6.7790 - mae: 7.2586\n",
            "Epoch 50/100\n",
            "94/94 [==============================] - 1s 10ms/step - loss: 6.6710 - mae: 7.1513\n",
            "Epoch 51/100\n",
            "94/94 [==============================] - 1s 10ms/step - loss: 6.5490 - mae: 7.0292\n",
            "Epoch 52/100\n",
            "94/94 [==============================] - 1s 10ms/step - loss: 6.3435 - mae: 6.8203\n",
            "Epoch 53/100\n",
            "94/94 [==============================] - 1s 10ms/step - loss: 5.9019 - mae: 6.3736\n",
            "Epoch 54/100\n",
            "94/94 [==============================] - 1s 10ms/step - loss: 5.6925 - mae: 6.1635\n",
            "Epoch 55/100\n",
            "94/94 [==============================] - 1s 10ms/step - loss: 5.5132 - mae: 5.9845\n",
            "Epoch 56/100\n",
            "94/94 [==============================] - 1s 10ms/step - loss: 5.3014 - mae: 5.7677\n",
            "Epoch 57/100\n",
            "94/94 [==============================] - 1s 10ms/step - loss: 5.1778 - mae: 5.6485\n",
            "Epoch 58/100\n",
            "94/94 [==============================] - 1s 10ms/step - loss: 5.0339 - mae: 5.5024\n",
            "Epoch 59/100\n",
            "94/94 [==============================] - 1s 10ms/step - loss: 4.8640 - mae: 5.3295\n",
            "Epoch 60/100\n",
            "94/94 [==============================] - 1s 11ms/step - loss: 4.7670 - mae: 5.2320\n",
            "Epoch 61/100\n",
            "94/94 [==============================] - 1s 11ms/step - loss: 4.6816 - mae: 5.1469\n",
            "Epoch 62/100\n",
            "94/94 [==============================] - 1s 11ms/step - loss: 4.5836 - mae: 5.0500\n",
            "Epoch 63/100\n",
            "94/94 [==============================] - 1s 11ms/step - loss: 4.5919 - mae: 5.0578\n",
            "Epoch 64/100\n",
            "94/94 [==============================] - 1s 11ms/step - loss: 4.5364 - mae: 5.0037\n",
            "Epoch 65/100\n",
            "94/94 [==============================] - 1s 10ms/step - loss: 4.5465 - mae: 5.0131\n",
            "Epoch 66/100\n",
            "94/94 [==============================] - 1s 10ms/step - loss: 4.3607 - mae: 4.8270\n",
            "Epoch 67/100\n",
            "94/94 [==============================] - 1s 10ms/step - loss: 4.1550 - mae: 4.6184\n",
            "Epoch 68/100\n",
            "94/94 [==============================] - 1s 10ms/step - loss: 4.0570 - mae: 4.5204\n",
            "Epoch 69/100\n",
            "94/94 [==============================] - 1s 10ms/step - loss: 4.1300 - mae: 4.5964\n",
            "Epoch 70/100\n",
            "94/94 [==============================] - 1s 10ms/step - loss: 3.9866 - mae: 4.4504\n",
            "Epoch 71/100\n",
            "94/94 [==============================] - 1s 10ms/step - loss: 3.8718 - mae: 4.3380\n",
            "Epoch 72/100\n",
            "94/94 [==============================] - 1s 10ms/step - loss: 3.8384 - mae: 4.3019\n",
            "Epoch 73/100\n",
            "94/94 [==============================] - 1s 10ms/step - loss: 3.8492 - mae: 4.3135\n",
            "Epoch 74/100\n",
            "94/94 [==============================] - 1s 10ms/step - loss: 3.6988 - mae: 4.1621\n",
            "Epoch 75/100\n",
            "94/94 [==============================] - 1s 10ms/step - loss: 3.6401 - mae: 4.1042\n",
            "Epoch 76/100\n",
            "94/94 [==============================] - 1s 10ms/step - loss: 3.5737 - mae: 4.0365\n",
            "Epoch 77/100\n",
            "94/94 [==============================] - 1s 10ms/step - loss: 3.4824 - mae: 3.9487\n",
            "Epoch 78/100\n",
            "94/94 [==============================] - 1s 10ms/step - loss: 3.3948 - mae: 3.8627\n",
            "Epoch 79/100\n",
            "94/94 [==============================] - 1s 10ms/step - loss: 3.2423 - mae: 3.7046\n",
            "Epoch 80/100\n",
            "94/94 [==============================] - 1s 10ms/step - loss: 3.3036 - mae: 3.7695\n",
            "Epoch 81/100\n",
            "94/94 [==============================] - 1s 10ms/step - loss: 3.0867 - mae: 3.5510\n",
            "Epoch 82/100\n",
            "94/94 [==============================] - 1s 10ms/step - loss: 3.0346 - mae: 3.4997\n",
            "Epoch 83/100\n",
            "94/94 [==============================] - 1s 10ms/step - loss: 3.0818 - mae: 3.5462\n",
            "Epoch 84/100\n",
            "94/94 [==============================] - 1s 10ms/step - loss: 3.0555 - mae: 3.5182\n",
            "Epoch 85/100\n",
            "94/94 [==============================] - 1s 10ms/step - loss: 3.0529 - mae: 3.5142\n",
            "Epoch 86/100\n",
            "94/94 [==============================] - 1s 10ms/step - loss: 3.0089 - mae: 3.4709\n",
            "Epoch 87/100\n",
            "94/94 [==============================] - 1s 10ms/step - loss: 3.0378 - mae: 3.5031\n",
            "Epoch 88/100\n",
            "94/94 [==============================] - 1s 10ms/step - loss: 2.9082 - mae: 3.3734\n",
            "Epoch 89/100\n",
            "94/94 [==============================] - 1s 10ms/step - loss: 3.1926 - mae: 3.6618\n",
            "Epoch 90/100\n",
            "94/94 [==============================] - 1s 10ms/step - loss: 3.2377 - mae: 3.7054\n",
            "Epoch 91/100\n",
            "94/94 [==============================] - 1s 10ms/step - loss: 2.9589 - mae: 3.4237\n",
            "Epoch 92/100\n",
            "94/94 [==============================] - 1s 10ms/step - loss: 3.0998 - mae: 3.5658\n",
            "Epoch 93/100\n",
            "94/94 [==============================] - 1s 10ms/step - loss: 2.9112 - mae: 3.3756\n",
            "Epoch 94/100\n",
            "94/94 [==============================] - 1s 10ms/step - loss: 2.9083 - mae: 3.3719\n",
            "Epoch 95/100\n",
            "94/94 [==============================] - 1s 10ms/step - loss: 2.9167 - mae: 3.3794\n",
            "Epoch 96/100\n",
            "94/94 [==============================] - 1s 10ms/step - loss: 2.9513 - mae: 3.4192\n",
            "Epoch 97/100\n",
            "94/94 [==============================] - 1s 10ms/step - loss: 2.8930 - mae: 3.3590\n",
            "Epoch 98/100\n",
            "94/94 [==============================] - 1s 10ms/step - loss: 2.8878 - mae: 3.3532\n",
            "Epoch 99/100\n",
            "94/94 [==============================] - 1s 10ms/step - loss: 2.9151 - mae: 3.3793\n",
            "Epoch 100/100\n",
            "94/94 [==============================] - 1s 10ms/step - loss: 3.3328 - mae: 3.8012\n"
          ],
          "name": "stdout"
        }
      ]
    },
    {
      "cell_type": "markdown",
      "metadata": {
        "id": "y-owK2QfKT89",
        "colab_type": "text"
      },
      "source": [
        "The above learning rate scheduler callback determines how loss depends on the learning rate. We plot this semilog plot to determine the best learning rate. We aim for the lowest loss that is also stable enough (i.e. the curve is smooth at that point)."
      ]
    },
    {
      "cell_type": "code",
      "metadata": {
        "colab_type": "code",
        "id": "AkBsrsXMzoWR",
        "colab": {
          "base_uri": "https://localhost:8080/",
          "height": 290
        },
        "outputId": "c674cd00-257a-4410-aae9-7ebdb056ec96"
      },
      "source": [
        "plt.semilogx(history.history[\"lr\"], history.history[\"loss\"])\n",
        "plt.axis([1e-8, 1e-4, 0, 30])\n",
        "\n",
        "# FROM THIS PICK A LEARNING RATE"
      ],
      "execution_count": 5,
      "outputs": [
        {
          "output_type": "execute_result",
          "data": {
            "text/plain": [
              "(1e-08, 0.0001, 0.0, 30.0)"
            ]
          },
          "metadata": {
            "tags": []
          },
          "execution_count": 5
        },
        {
          "output_type": "display_data",
          "data": {
            "image/png": "[encoded data removed]",
            "text/plain": [
              "<Figure size 432x288 with 1 Axes>"
            ]
          },
          "metadata": {
            "tags": [],
            "needs_background": "light"
          }
        }
      ]
    },
    {
      "cell_type": "markdown",
      "metadata": {
        "id": "9P_AB856Kyc2",
        "colab_type": "text"
      },
      "source": [
        "The curve shows that `10e-4` might be a good learning rate. We repeat the training of the same model, but with the fixed learning rate, training for 500 epochs."
      ]
    },
    {
      "cell_type": "code",
      "metadata": {
        "colab_type": "code",
        "id": "4uh-97bpLZCA",
        "colab": {}
      },
      "source": [
        "tf.keras.backend.clear_session()\n",
        "tf.random.set_seed(51)\n",
        "np.random.seed(51)\n",
        "\n",
        "tf.keras.backend.clear_session()\n",
        "dataset = windowed_dataset(x_train, window_size, batch_size, shuffle_buffer_size)\n",
        "\n",
        "model = tf.keras.models.Sequential([\n",
        "  tf.keras.layers.Lambda(lambda x: tf.expand_dims(x, axis=-1), output_shape=[None]),\n",
        "  tf.keras.layers.Bidirectional(tf.keras.layers.LSTM(32, return_sequences=True)),\n",
        "  tf.keras.layers.Bidirectional(tf.keras.layers.LSTM(32)),\n",
        "  tf.keras.layers.Dense(1),\n",
        "  tf.keras.layers.Lambda(lambda x: x * 100.0)\n",
        "])\n",
        "\n",
        "model.compile(loss=\"mse\", optimizer=tf.keras.optimizers.SGD(lr=10e-4, momentum=0.9),metrics=[\"mae\"])\n",
        "history = model.fit(dataset,epochs=500,verbose=0)\n",
        "                                                            \n",
        "# FIND A MODEL AND A LR THAT TRAINS TO AN MAE < 3                                                          "
      ],
      "execution_count": 11,
      "outputs": []
    },
    {
      "cell_type": "code",
      "metadata": {
        "colab_type": "code",
        "id": "icGDaND7z0ne",
        "colab": {
          "base_uri": "https://localhost:8080/",
          "height": 388
        },
        "outputId": "c61b0b24-a913-44b1-8626-cdc8df97fc0f"
      },
      "source": [
        "forecast = []\n",
        "results = []\n",
        "for time in range(len(series) - window_size):\n",
        "  forecast.append(model.predict(series[time:time + window_size][np.newaxis]))\n",
        "\n",
        "forecast = forecast[split_time-window_size:]\n",
        "results = np.array(forecast)[:, 0, 0]\n",
        "\n",
        "\n",
        "plt.figure(figsize=(10, 6))\n",
        "\n",
        "plot_series(time_valid, x_valid)\n",
        "plot_series(time_valid, results)"
      ],
      "execution_count": 12,
      "outputs": [
        {
          "output_type": "display_data",
          "data": {
            "image/png": "[encoded data removed]",
            "text/plain": [
              "<Figure size 720x432 with 1 Axes>"
            ]
          },
          "metadata": {
            "tags": [],
            "needs_background": "light"
          }
        }
      ]
    },
    {
      "cell_type": "code",
      "metadata": {
        "colab_type": "code",
        "id": "KfPeqI7rz4LD",
        "colab": {
          "base_uri": "https://localhost:8080/",
          "height": 34
        },
        "outputId": "a264276a-fae6-4e39-8108-37d4088c1072"
      },
      "source": [
        "tf.keras.metrics.mean_absolute_error(x_valid, results).numpy()\n",
        "\n",
        "# YOUR RESULT HERE SHOULD BE LESS THAN 4"
      ],
      "execution_count": 13,
      "outputs": [
        {
          "output_type": "execute_result",
          "data": {
            "text/plain": [
              "nan"
            ]
          },
          "metadata": {
            "tags": []
          },
          "execution_count": 13
        }
      ]
    },
    {
      "cell_type": "code",
      "metadata": {
        "colab_type": "code",
        "id": "JUsdZB_tzDLe",
        "colab": {
          "base_uri": "https://localhost:8080/",
          "height": 607
        },
        "outputId": "36fd5083-178a-44a9-cae7-1893c38ebbf8"
      },
      "source": [
        "import matplotlib.image  as mpimg\n",
        "import matplotlib.pyplot as plt\n",
        "\n",
        "#-----------------------------------------------------------\n",
        "# Retrieve a list of list results on training and test data\n",
        "# sets for each training epoch\n",
        "#-----------------------------------------------------------\n",
        "mae=history.history['mae']\n",
        "loss=history.history['loss']\n",
        "\n",
        "epochs=range(len(loss)) # Get number of epochs\n",
        "\n",
        "#------------------------------------------------\n",
        "# Plot MAE and Loss\n",
        "#------------------------------------------------\n",
        "plt.plot(epochs, mae, 'r')\n",
        "plt.plot(epochs, loss, 'b')\n",
        "plt.title('MAE and Loss')\n",
        "plt.xlabel(\"Epochs\")\n",
        "plt.ylabel(\"Accuracy\")\n",
        "plt.legend([\"MAE\", \"Loss\"])\n",
        "\n",
        "plt.figure()\n",
        "\n",
        "epochs_zoom = epochs[200:]\n",
        "mae_zoom = mae[200:]\n",
        "loss_zoom = loss[200:]\n",
        "\n",
        "#------------------------------------------------\n",
        "# Plot Zoomed MAE and Loss\n",
        "#------------------------------------------------\n",
        "plt.plot(epochs_zoom, mae_zoom, 'r')\n",
        "plt.plot(epochs_zoom, loss_zoom, 'b')\n",
        "plt.title('MAE and Loss')\n",
        "plt.xlabel(\"Epochs\")\n",
        "plt.ylabel(\"Accuracy\")\n",
        "plt.legend([\"MAE\", \"Loss\"])\n",
        "\n",
        "plt.figure()"
      ],
      "execution_count": 14,
      "outputs": [
        {
          "output_type": "execute_result",
          "data": {
            "text/plain": [
              "<Figure size 432x288 with 0 Axes>"
            ]
          },
          "metadata": {
            "tags": []
          },
          "execution_count": 14
        },
        {
          "output_type": "display_data",
          "data": {
            "image/png": "[encoded data removed]",
            "text/plain": [
              "<Figure size 432x288 with 1 Axes>"
            ]
          },
          "metadata": {
            "tags": [],
            "needs_background": "light"
          }
        },
        {
          "output_type": "display_data",
          "data": {
            "image/png": "[encoded data removed]",
            "text/plain": [
              "<Figure size 432x288 with 1 Axes>"
            ]
          },
          "metadata": {
            "tags": [],
            "needs_background": "light"
          }
        },
        {
          "output_type": "display_data",
          "data": {
            "text/plain": [
              "<Figure size 432x288 with 0 Axes>"
            ]
          },
          "metadata": {
            "tags": []
          }
        }
      ]
    },
    {
      "cell_type": "code",
      "metadata": {
        "id": "qwH0P93vOOJL",
        "colab_type": "code",
        "colab": {}
      },
      "source": [
        ""
      ],
      "execution_count": 14,
      "outputs": []
    }
  ]
}